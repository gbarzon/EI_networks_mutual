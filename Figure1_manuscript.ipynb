{
 "cells": [
  {
   "cell_type": "code",
   "execution_count": 4,
   "metadata": {},
   "outputs": [
    {
     "name": "stdout",
     "output_type": "stream",
     "text": [
      "The autoreload extension is already loaded. To reload it, use:\n",
      "  %reload_ext autoreload\n"
     ]
    }
   ],
   "source": [
    "# reload\n",
    "%load_ext autoreload\n",
    "%autoreload 2"
   ]
  },
  {
   "cell_type": "code",
   "execution_count": 200,
   "metadata": {},
   "outputs": [],
   "source": [
    "import numpy as np\n",
    "\n",
    "import matplotlib.pyplot as plt\n",
    "\n",
    "import sys\n",
    "sys.path.append('../')\n",
    "import funPlots as fplot\n",
    "\n",
    "import seaborn as sns\n",
    "\n",
    "fplot.master_format(ncols = 2, nrows = 2)"
   ]
  },
  {
   "cell_type": "code",
   "execution_count": 10,
   "metadata": {},
   "outputs": [],
   "source": [
    "from utils.simulation import *\n",
    "from utils.mutual import (compute_mutual_information_from_trajectories, mutual_information_slowjumps, MC_underhood)\n",
    "from utils.analytical import *\n",
    "\n",
    "def get_default_params_system():\n",
    "    ### Info system\n",
    "    N = 2\n",
    "    w = 2\n",
    "    k = 1.1\n",
    "    tau_ei = 1\n",
    "    r = np.ones(N)\n",
    "    \n",
    "    return {'N': N, 'w': w, 'k': k, 'tau_ei': tau_ei, 'r': r}"
   ]
  },
  {
   "cell_type": "code",
   "execution_count": 254,
   "metadata": {},
   "outputs": [],
   "source": [
    "data_folder = 'data/'\n",
    "\n",
    "inputs_slow = np.load(data_folder+'inputs_slow.npy')\n",
    "states_slow = np.load(data_folder+'states_slow.npy')\n",
    "\n",
    "inputs_fast = np.load(data_folder+'inputs_fast.npy')\n",
    "states_fast = np.load(data_folder+'states_fast.npy')\n",
    "\n",
    "\n",
    "### Info input\n",
    "M = 3\n",
    "tau_h = 100\n",
    "wup = 1 / tau_h\n",
    "wdown = 2 / tau_h\n",
    "delta_h = 2.5\n",
    "hs = np.arange(M) * delta_h\n",
    "hs = np.stack([hs, np.zeros(M)])\n",
    "\n",
    "W = create_transition_matrix_star_graph(M, wup, wdown)\n",
    "\n",
    "p_stat = np.array([wdown] + [wup] * (M-1))\n",
    "p_stat = p_stat / p_stat.sum()\n",
    "\n",
    "### Info simulation\n",
    "steps = int(5e6)\n",
    "dt = 0.005\n",
    "\n",
    "### Create info dictionary\n",
    "info_system = create_info_system(**get_default_params_system())\n",
    "info_input = create_info_input(W, hs)\n",
    "info_simulation = create_info_simulation(steps,dt)"
   ]
  },
  {
   "cell_type": "code",
   "execution_count": 255,
   "metadata": {},
   "outputs": [],
   "source": [
    "idx_start = 175000\n",
    "idx_end = 255000\n",
    "\n",
    "Nsteps = idx_end - idx_start\n",
    "\n",
    "Time = np.arange(Nsteps)*dt"
   ]
  },
  {
   "cell_type": "code",
   "execution_count": 260,
   "metadata": {},
   "outputs": [
    {
     "name": "stdout",
     "output_type": "stream",
     "text": [
      "0.8141237158419327 1.037052357929819\n"
     ]
    }
   ],
   "source": [
    "### Info input\n",
    "M = 3\n",
    "tau_h = 100\n",
    "wup = 1 / tau_h\n",
    "wdown = 2 / tau_h\n",
    "delta_h = 2.5\n",
    "hs = np.arange(M) * delta_h\n",
    "hs = np.stack([hs, np.zeros(M)])\n",
    "\n",
    "W = create_transition_matrix_star_graph(M, wup, wdown)\n",
    "\n",
    "p_stat = np.array([wdown] + [wup] * (M-1))\n",
    "p_stat = p_stat / p_stat.sum()\n",
    "\n",
    "### Info system - increase w\n",
    "info_system['w'] = 5 # was 40\n",
    "\n",
    "### Simulation params\n",
    "taus = np.logspace(-1,3,10)\n",
    "bins = 100\n",
    "\n",
    "### Info simulation\n",
    "steps = int(1e7)\n",
    "dt = 0.01\n",
    "\n",
    "### Compute bounds\n",
    "upper_bound = theo_ub(info_system['w'], info_system['k'], p_stat, info_input['hs'])\n",
    "lower_bound = theo_lb(info_system['w'], info_system['k'], p_stat, info_input['hs'])\n",
    "\n",
    "ress = np.load(data_folder+'mutual_different_timescales.npy')\n",
    "\n",
    "print(lower_bound, upper_bound)"
   ]
  },
  {
   "cell_type": "code",
   "execution_count": 257,
   "metadata": {},
   "outputs": [],
   "source": [
    "colors = (\"#76c893\", \"#184e77\")\n",
    "labels = ('$E$', '$I$')"
   ]
  },
  {
   "cell_type": "code",
   "execution_count": 258,
   "metadata": {},
   "outputs": [],
   "source": [
    "t_min = 10000\n",
    "h_fast, bins_fast_x, bins_fast_y = np.histogram2d(states_fast[t_min:,0], states_fast[t_min:,1],\n",
    "                                                  bins = 100, density=True)\n",
    "h_slow, bins_slow_x, bins_slow_y = np.histogram2d(states_slow[t_min:,0], states_slow[t_min:,1],\n",
    "                                                  bins = 100, density=True)\n",
    "\n",
    "h_max = max(h_fast.max(), h_slow.max())"
   ]
  },
  {
   "cell_type": "code",
   "execution_count": 307,
   "metadata": {},
   "outputs": [
    {
     "name": "stderr",
     "output_type": "stream",
     "text": [
      "/Users/giorgionicoletti/miniconda3/envs/minpy/lib/python3.9/site-packages/seaborn/_oldcore.py:1119: FutureWarning: use_inf_as_na option is deprecated and will be removed in a future version. Convert inf values to NaN before operating instead.\n",
      "  with pd.option_context('mode.use_inf_as_na', True):\n",
      "/Users/giorgionicoletti/miniconda3/envs/minpy/lib/python3.9/site-packages/seaborn/_oldcore.py:1119: FutureWarning: use_inf_as_na option is deprecated and will be removed in a future version. Convert inf values to NaN before operating instead.\n",
      "  with pd.option_context('mode.use_inf_as_na', True):\n",
      "/Users/giorgionicoletti/miniconda3/envs/minpy/lib/python3.9/site-packages/seaborn/_oldcore.py:1119: FutureWarning: use_inf_as_na option is deprecated and will be removed in a future version. Convert inf values to NaN before operating instead.\n",
      "  with pd.option_context('mode.use_inf_as_na', True):\n",
      "/Users/giorgionicoletti/miniconda3/envs/minpy/lib/python3.9/site-packages/seaborn/_oldcore.py:1119: FutureWarning: use_inf_as_na option is deprecated and will be removed in a future version. Convert inf values to NaN before operating instead.\n",
      "  with pd.option_context('mode.use_inf_as_na', True):\n"
     ]
    }
   ],
   "source": [
    "fig, axs = plt.subplot_mosaic([[\"hf\", \"pf\"],\n",
    "                               [\"tf\", \"pf\"],\n",
    "                               [\"hs\", \"ps\"],\n",
    "                               [\"ts\", \"ps\"],\n",
    "                               [\"i\", \"i\"]], figsize = (6, 6),\n",
    "                               gridspec_kw = {'height_ratios': [0.5, 1, 0.5, 1, 3]})\n",
    "\n",
    "plt.subplots_adjust(hspace = 0.5, wspace = 0.3)\n",
    "\n",
    "for ax in [axs[\"tf\"], axs[\"ts\"]]:\n",
    "    ax.spines[['top','right']].set_visible(False)\n",
    "    ax.set_xticks([0, 410])\n",
    "    ax.set_yticks([-5, 15])\n",
    "    ax.set_xlabel('$t$', labelpad = -10)\n",
    "    ax.set_ylabel('$x(t)$')\n",
    "    ax.set_ylim(-7, 17)\n",
    "\n",
    "\n",
    "for ax in [axs[\"hf\"], axs[\"hs\"]]:\n",
    "    ax.axis('off')\n",
    "\n",
    "axs[\"hf\"].plot(Time, hs[0][inputs_fast][idx_start:idx_end], c = 'k', lw = 1)\n",
    "axs[\"hs\"].plot(Time, hs[0][inputs_slow][idx_start:idx_end], c = 'k', lw = 1)\n",
    "\n",
    "for idx, state in enumerate(states_fast.T):\n",
    "    axs[\"tf\"].plot(Time, state[idx_start:idx_end], label=labels[idx],\n",
    "                   c=colors[idx], lw = 0.75)\n",
    "\n",
    "axs[\"tf\"].legend(ncols = 2, bbox_to_anchor = (-0.5,2), loc = \"upper left\", fontsize = 14, handlelength = 0.5,\n",
    "                 handletextpad = 0.2, columnspacing = 0.7)\n",
    "\n",
    "for idx, state in enumerate(states_slow.T):\n",
    "    axs[\"ts\"].plot(Time, state[idx_start:idx_end], label=labels[idx],\n",
    "                   c=colors[idx], lw = 0.75)\n",
    "    \n",
    "sns.histplot(x=states_fast[t_min:,0], y=states_fast[t_min:,1], bins=100, ax=axs[\"pf\"],\n",
    "             cmap='mako_r', stat='density', cbar=True, vmin = 0, vmax = h_max)\n",
    "\n",
    "sns.histplot(x=states_slow[t_min:,0], y=states_slow[t_min:,1], bins=100, ax=axs[\"ps\"],\n",
    "                cmap='mako_r', stat='density', cbar=True, vmin = 0, vmax = h_max)\n",
    "\n",
    "for ax in [axs[\"pf\"], axs[\"ps\"]]:\n",
    "    ax.set_xlabel(labels[0], labelpad = -10)\n",
    "    ax.set_ylabel(labels[1], labelpad = -20)\n",
    "    cbar = ax.collections[0].colorbar\n",
    "    cbar.set_ticks([0, np.round(h_max, 2)])\n",
    "    cbar.set_label(r'$p(E, I)$', labelpad = 10)\n",
    "\n",
    "    ax.set_xticks([-7.2, 20.6])\n",
    "    ax.set_yticks([-4.5, 12.8])\n",
    "\n",
    "axs[\"i\"].set_xscale('log')\n",
    "\n",
    "axs[\"i\"].scatter(taus / info_system['tau_ei'], ress, c = '#212529', s = 80, ec = \"w\", lw = 1.2)\n",
    "axs[\"i\"].plot(taus / info_system['tau_ei'], ress, c = '#6c757d', lw = 3.2, zorder = -10, alpha = 1)\n",
    "\n",
    "axs[\"i\"].axhline(upper_bound, c=\"#adb5bd\", ls='--', lw=2,\n",
    "                 label=r'$I_{up}$', zorder = -np.inf)\n",
    "axs[\"i\"].axhline(lower_bound, c=\"#ced4da\", ls='--', lw=2,\n",
    "                 label=r'$I_{down}$', zorder = -np.inf)\n",
    "\n",
    "axs[\"i\"].set_xlabel(r'$\\tau_\\mathrm{jumps} / \\tau$', fontsize = 20)\n",
    "axs[\"i\"].set_ylabel(r'$I_{\\mathbf{x},h}$', fontsize = 22)\n",
    "\n",
    "axs[\"i\"].set_ylim(-0.05, 1.1)\n",
    "\n",
    "axs[\"i\"].set_yticks([0,1.05])\n",
    "axs[\"i\"].set_yticklabels([\"0 bit\", f\"{np.round(1.05/np.log(2), 1)} bit\"])\n",
    "\n",
    "plt.savefig('figures/Figure1_draft.svg', dpi = 300, bbox_inches = 'tight')\n",
    "plt.show()"
   ]
  },
  {
   "cell_type": "code",
   "execution_count": 303,
   "metadata": {},
   "outputs": [
    {
     "data": {
      "text/plain": [
       "1.4426950408889634"
      ]
     },
     "execution_count": 303,
     "metadata": {},
     "output_type": "execute_result"
    }
   ],
   "source": [
    "1/np.log(2)"
   ]
  },
  {
   "cell_type": "code",
   "execution_count": null,
   "metadata": {},
   "outputs": [],
   "source": []
  }
 ],
 "metadata": {
  "kernelspec": {
   "display_name": "minpy",
   "language": "python",
   "name": "python3"
  },
  "language_info": {
   "codemirror_mode": {
    "name": "ipython",
    "version": 3
   },
   "file_extension": ".py",
   "mimetype": "text/x-python",
   "name": "python",
   "nbconvert_exporter": "python",
   "pygments_lexer": "ipython3",
   "version": "3.9.18"
  }
 },
 "nbformat": 4,
 "nbformat_minor": 2
}
